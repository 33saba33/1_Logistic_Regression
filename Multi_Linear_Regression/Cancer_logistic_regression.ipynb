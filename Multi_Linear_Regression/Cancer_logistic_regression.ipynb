{
 "cells": [
  {
   "cell_type": "markdown",
   "id": "815e8efc-2aae-4752-b88b-be925858d186",
   "metadata": {},
   "source": [
    "## IMPORT LIBRARIES"
   ]
  },
  {
   "cell_type": "code",
   "execution_count": 1,
   "id": "9dea2e63-9498-41c6-bc8f-e78e8995de31",
   "metadata": {},
   "outputs": [],
   "source": [
    "# Import pandas for data manipulation and analysis\n",
    "import pandas as pd \n",
    "\n",
    "# Import numpy for numerical operations, especially array manipulation\n",
    "import numpy as np\n",
    "\n",
    "# Import seaborn for advanced data visualization\n",
    "import seaborn as sns\n",
    "\n",
    "# Import StandardScaler to normalize features (mean = 0, standard deviation = 1)\n",
    "from sklearn.preprocessing import StandardScaler\n",
    "\n",
    "# Import train_test_split to split the dataset into training and testing sets\n",
    "from sklearn.model_selection import train_test_split\n",
    "\n",
    "# Import matplotlib for plotting graphs and visualizations\n",
    "import matplotlib.pyplot as plt\n",
    "\n",
    "# Import clear_output to refresh output cells in Jupyter during live updates\n",
    "from IPython.display import clear_output"
   ]
  },
  {
   "cell_type": "markdown",
   "id": "5ad77f5c-4279-42f6-b8b8-98b0c2efc28a",
   "metadata": {},
   "source": [
    "## IMPORT AND CLEAN DATA"
   ]
  },
  {
   "cell_type": "code",
   "execution_count": 2,
   "id": "663e183a-1d97-4df6-82e5-c00107102beb",
   "metadata": {},
   "outputs": [],
   "source": [
    "# Import the dataset\n",
    "data = pd.read_csv(\"data.csv\")\n",
    "\n",
    "# Drop the 'id' column and the unnamed empty column\n",
    "data.drop(['Unnamed: 32', 'id'], axis=1, inplace=True)\n",
    "\n",
    "# Convert the 'diagnosis' column: 'M' (malignant) becomes 1, 'B' (benign) becomes 0\n",
    "data['diagnosis'] = [1.0 if value == \"M\" else 0.0 for value in data['diagnosis']]"
   ]
  },
  {
   "cell_type": "markdown",
   "id": "ceb5adad-3aae-4e9c-803a-5bb648f60aa0",
   "metadata": {},
   "source": [
    "## PREPARE DATA FOR TRAINING"
   ]
  },
  {
   "cell_type": "code",
   "execution_count": 3,
   "id": "2a8b758c-00f0-499f-a521-d447990f3ea2",
   "metadata": {},
   "outputs": [],
   "source": [
    "# Define the target variable\n",
    "Y = data[\"diagnosis\"]\n",
    "\n",
    "# Define the feature variables (predictors)\n",
    "X = data.drop([\"diagnosis\"], axis=1)"
   ]
  },
  {
   "cell_type": "markdown",
   "id": "f9e3ffa8-6c2a-4ca2-9fbc-e68ae396ad8f",
   "metadata": {},
   "source": [
    "## STANDARDIZE DATA"
   ]
  },
  {
   "cell_type": "code",
   "execution_count": 4,
   "id": "3b4feb77-216d-460d-9449-9b4dbb22f951",
   "metadata": {},
   "outputs": [],
   "source": [
    "# Create a StandardScaler object to normalize the features (mean = 0, standard deviation = 1)\n",
    "scaler = StandardScaler()\n",
    "\n",
    "# Fit the scaler on X and transform it to a standardized version\n",
    "X_scaled = scaler.fit_transform(X)"
   ]
  },
  {
   "cell_type": "markdown",
   "id": "30852b66-0471-4905-86cd-b548d18e8ce7",
   "metadata": {},
   "source": [
    "## SPLIT DATA"
   ]
  },
  {
   "cell_type": "code",
   "execution_count": 5,
   "id": "c1c2f706-4a12-4c73-8347-6eea67a50215",
   "metadata": {},
   "outputs": [],
   "source": [
    "# Split the data: 70% for training and 30% for testing\n",
    "X_train, X_test, Y_train, Y_test = train_test_split(X_scaled, Y, test_size=0.30, random_state=42)"
   ]
  },
  {
   "cell_type": "markdown",
   "id": "f763bad7-e9d9-4b4b-a991-e423c687d1e0",
   "metadata": {},
   "source": [
    "## UTILITIES"
   ]
  },
  {
   "cell_type": "code",
   "execution_count": 6,
   "id": "8178f1e8-9ba7-4bae-b62c-d4eedc93e4e8",
   "metadata": {},
   "outputs": [],
   "source": [
    "# Define the sigmoid activation function\n",
    "def sigmoid(z):\n",
    "    return 1 / (1 + np.exp(-z))"
   ]
  },
  {
   "cell_type": "markdown",
   "id": "e8612617-fcb7-44b6-8a50-4e01039a0695",
   "metadata": {},
   "source": [
    "## PREDICTION"
   ]
  },
  {
   "cell_type": "code",
   "execution_count": 7,
   "id": "c9f94e1e-0e6e-4ca6-af08-dce0fd1cb443",
   "metadata": {},
   "outputs": [],
   "source": [
    "# Define the predict function, which calculates the prediction for a given input example\n",
    "def predict(weights, bias, input_example):\n",
    "    # Initialize the weighted sum to 0\n",
    "    weighted_sum = 0  \n",
    "    # Loop through each feature to compute the weighted sum\n",
    "    for current_feature_index in range(weights.shape[0]):\n",
    "        # Add the product of the current weight and the corresponding input feature\n",
    "        weighted_sum += weights[current_feature_index] * input_example[current_feature_index]\n",
    "    # Add the bias term to the weighted sum\n",
    "    weighted_sum += bias\n",
    "    # Apply the sigmoid function to the weighted sum to get a probability\n",
    "    prediction = sigmoid(weighted_sum)\n",
    "    # Return the final prediction\n",
    "    return prediction"
   ]
  },
  {
   "cell_type": "markdown",
   "id": "e21e9f31-61b4-4a88-ac12-0a6fb7bb2134",
   "metadata": {},
   "source": [
    "## COST"
   ]
  },
  {
   "cell_type": "code",
   "execution_count": 8,
   "id": "ac126d06-7605-417b-a2ee-95645d2a4342",
   "metadata": {},
   "outputs": [],
   "source": [
    "# Define the cost function, which calculates the average log loss over all examples\n",
    "def cost(weights, bias, inputs, expected_outputs):\n",
    "    # Convert expected_outputs to a numpy array to ensure correct indexing\n",
    "    expected_outputs = np.array(expected_outputs)\n",
    "    # Get the number of examples (rows) in the dataset \n",
    "    number_of_examples = inputs.shape[0]\n",
    "    # Initialize the sum of the losses to 0\n",
    "    sum_loss = 0\n",
    "    # Loop over each example \n",
    "    for i in range(number_of_examples):\n",
    "        # Get the true label of the current example \n",
    "        y_true = expected_outputs[i]\n",
    "        # Get the predicted probability for the current example\n",
    "        y_pred = predict(weights, bias, inputs[i])\n",
    "        # To avoid log(0), clip very small or very large predictions\n",
    "        if y_pred == 0:\n",
    "            y_pred = 1e-15  # Set a minimum value close to 0\n",
    "        elif y_pred == 1:\n",
    "            y_pred = 1 - 1e-15  # Set a maximum value just below 1\n",
    "        # Add the log loss for the current example to the total sum\n",
    "        sum_loss += y_true * np.log(y_pred) + (1 - y_true) * np.log(1 - y_pred)\n",
    "    # Compute the average loss\n",
    "    cost = -sum_loss / number_of_examples\n",
    "    # Return the final cost value\n",
    "    return cost"
   ]
  },
  {
   "cell_type": "markdown",
   "id": "ec2d276a-02ba-4d68-9ebb-3c4f557090be",
   "metadata": {},
   "source": [
    "## GRADIENT DESCENT"
   ]
  },
  {
   "cell_type": "code",
   "execution_count": 9,
   "id": "a1c2eece-562e-44c2-861c-471180896135",
   "metadata": {},
   "outputs": [],
   "source": [
    "# Define the function to compute the gradient of the cost function with respect to the weights\n",
    "def compute_gradient_w(weights, bias, inputs, expected_outputs):\n",
    "    # Convert expected_outputs to a numpy array\n",
    "    expected_outputs = np.array(expected_outputs)\n",
    "    # Get the number of examples (rows) in the dataset\n",
    "    number_of_examples = inputs.shape[0]\n",
    "    # Get the number of features (columns) in the dataset\n",
    "    number_of_features = inputs.shape[1]\n",
    "    # Initialize the gradient for weights as a vector of zeros (same shape as weights)\n",
    "    gradient_w = np.zeros_like(weights)\n",
    "    # Loop over each training example \n",
    "    for i in range(number_of_examples):\n",
    "        # Predict the probability for the current example\n",
    "        y_pred = predict(weights, bias, inputs[i])\n",
    "        # Get the true label for the current example\n",
    "        y_true = expected_outputs[i]\n",
    "        # Loop over each feature\n",
    "        for j in range(number_of_features):\n",
    "            # Accumulate the gradient: (prediction error) * (feature value)\n",
    "            gradient_w[j] += (y_pred - y_true) * inputs[i][j]\n",
    "    # Average the gradient over all examples\n",
    "    gradient_w = gradient_w / number_of_examples\n",
    "    # Return the computed gradient for the weights\n",
    "    return gradient_w\n",
    "\n",
    "# Define the function to compute the gradient of the cost function with respect to the bias\n",
    "def compute_gradient_b(weights, bias, inputs, expected_outputs):\n",
    "    # Convert expected_outputs to a numpy array\n",
    "    expected_outputs = np.array(expected_outputs)\n",
    "    # Get the number of examples (rows) in the dataset\n",
    "    number_of_examples = inputs.shape[0]\n",
    "    # Initialize the gradient for the bias as 0\n",
    "    gradient_b = 0\n",
    "    # Loop over each training example\n",
    "    for i in range(number_of_examples):\n",
    "        # Predict the probability for the current example\n",
    "        y_pred = predict(weights, bias, inputs[i])\n",
    "        # Get the true label for the current example\n",
    "        y_true = expected_outputs[i]\n",
    "        # Accumulate the gradient over all examples\n",
    "        gradient_b += (y_pred - y_true)\n",
    "    # Average the gradient over all examples \n",
    "    gradient_b = gradient_b / number_of_examples\n",
    "    # Return the computed gradient for the bias\n",
    "    return gradient_b\n",
    "\n",
    "# Define the gradient descent function to update weights and bias \n",
    "def gradient_descent(weights, bias, learning_rate, inputs, expected_outputs):\n",
    "    # Compute both gradients before updating\n",
    "    grad_w = compute_gradient_w(weights, bias, inputs, expected_outputs)\n",
    "    grad_b = compute_gradient_b(weights, bias, inputs, expected_outputs)\n",
    "    # Update the weights\n",
    "    weights = weights - learning_rate * grad_w\n",
    "    # Update the bias\n",
    "    bias = bias - learning_rate * grad_b\n",
    "    # Return the updated weights and bias\n",
    "    return weights, bias"
   ]
  },
  {
   "cell_type": "markdown",
   "id": "80e47014-37bd-4cdb-acd4-0fdf3ae01068",
   "metadata": {},
   "source": [
    "## TEST"
   ]
  },
  {
   "cell_type": "code",
   "execution_count": 10,
   "id": "e889da6b-e57f-4efe-99bd-1b571f4dcfdc",
   "metadata": {},
   "outputs": [],
   "source": [
    "# Define the function to compute the accuracy of the model\n",
    "def accuracy(weights, bias, inputs, expected_outputs):\n",
    "    # Convert expected_outputs to a numpy array to ensure correct indexing\n",
    "    expected_outputs = np.array(expected_outputs)    \n",
    "    # Initialize the counter for correct predictions\n",
    "    correct_predictions = 0\n",
    "    # Loop over each example\n",
    "    for i in range(inputs.shape[0]):\n",
    "        # Predict the probability for the current example\n",
    "        y_pred = predict(weights, bias, inputs[i])\n",
    "        # Get the true label for the current example\n",
    "        y_true = expected_outputs[i]\n",
    "        # Check if the prediction is correct:\n",
    "        # - If predicted probability > 0.5 and true label is 1\n",
    "        # - Or if predicted probability < 0.5 and true label is 0\n",
    "        if (y_pred > 0.5 and y_true == 1.0) or (y_pred < 0.5 and y_true == 0.0):\n",
    "            # If correct, increment the counter\n",
    "            correct_predictions += 1\n",
    "    # Calculate the accuracy as the percentage of correct predictions\n",
    "    return (correct_predictions / inputs.shape[0]) * 100"
   ]
  },
  {
   "cell_type": "markdown",
   "id": "59efe019-d2f2-49c9-97fd-2720372850ee",
   "metadata": {},
   "source": [
    "## VISUALIZATION"
   ]
  },
  {
   "cell_type": "code",
   "execution_count": 11,
   "id": "4812c6fa-289d-4cd0-9817-c84141d5daad",
   "metadata": {},
   "outputs": [],
   "source": [
    "# Display a progress bar based on the current model accuracy\n",
    "def show_progress(accuracy):\n",
    "    bar_length = 100\n",
    "    progress = accuracy / 95  \n",
    "    block = int(bar_length * progress)\n",
    "    text = f\"\\rProgress: [{'#' * block + '-' * (bar_length - block)}] {accuracy:.2f}%\"\n",
    "    print(text, end='', flush=True)\n",
    "\n",
    "# Plot the accuracy curve over the training iterations\n",
    "def plot_accuracy_curve(iterations, accuracies):\n",
    "    plt.figure(figsize=(8, 5))\n",
    "    plt.plot(iterations, accuracies, marker='o')\n",
    "    plt.title('Accuracy over Training Iterations')\n",
    "    plt.xlabel('Iterations')\n",
    "    plt.ylabel('Accuracy (%)')\n",
    "    plt.grid(True)\n",
    "    plt.show()\n",
    "\n",
    "# Plot the cost curve over the training iterations\n",
    "def plot_cost_curve(iterations, costs):\n",
    "    plt.figure(figsize=(8, 5))\n",
    "    plt.plot(iterations, costs, marker='o')\n",
    "    plt.title('Cost over Training Iterations')\n",
    "    plt.xlabel('Iterations')\n",
    "    plt.ylabel('Cost')\n",
    "    plt.grid(True)\n",
    "    plt.show()"
   ]
  },
  {
   "cell_type": "markdown",
   "id": "194cadcf-adc0-4ffe-a74e-fce68fd6c0ea",
   "metadata": {},
   "source": [
    "## TRAIN"
   ]
  },
  {
   "cell_type": "code",
   "execution_count": 12,
   "id": "522c8e79-c324-4c62-b6e6-7649fd4e5862",
   "metadata": {},
   "outputs": [],
   "source": [
    "# Define the training function to optimize weights and bias\n",
    "def train(weights, bias, learning_rate, inputs, expected_outputs):\n",
    "    # Initialize the iteration counter\n",
    "    number_of_iterations = 0\n",
    "    # Compute the initial cost\n",
    "    current_cost = cost(weights, bias, inputs, expected_outputs)\n",
    "    # Compute the initial accuracy\n",
    "    current_accuracy = accuracy(weights, bias, inputs, expected_outputs)\n",
    "    # Lists to store the number of iterations, costs, and accuracies for plotting\n",
    "    iterations = []\n",
    "    costs = []\n",
    "    accuracies = []\n",
    "    # Start the training loop: continue until accuracy reaches 95% or until maximum iterations are reached\n",
    "    while current_accuracy < 95.0:\n",
    "        # Perform one step of gradient descent to update weights and bias\n",
    "        updated_weights, updated_bias = gradient_descent(weights, bias, learning_rate, inputs, expected_outputs)\n",
    "        # Update weights and bias with the new values\n",
    "        weights = updated_weights\n",
    "        bias = updated_bias\n",
    "        # Recompute the cost with updated weights and bias \n",
    "        current_cost = cost(weights, bias, inputs, expected_outputs)\n",
    "        # Recompute the accuracy with updated weights and bias \n",
    "        current_accuracy = accuracy(weights, bias, inputs, expected_outputs)\n",
    "        # Update the progress bar\n",
    "        show_progress(current_accuracy)\n",
    "        # Increment the iteration counter\n",
    "        number_of_iterations += 1\n",
    "        # Record the data for plotting\n",
    "        iterations.append(number_of_iterations)\n",
    "        costs.append(current_cost)\n",
    "        accuracies.append(current_accuracy)\n",
    "    # Return the final weights, bias, and recorded lists of iterations, costs, and accuracies\n",
    "    return weights, bias, iterations, costs, accuracies"
   ]
  },
  {
   "cell_type": "markdown",
   "id": "54f67781-1e7f-4502-8807-273fd7e51e71",
   "metadata": {},
   "source": [
    "## PRACTICE"
   ]
  },
  {
   "cell_type": "code",
   "execution_count": 13,
   "id": "e8cd4b8c-8635-4a3f-a9da-83d3363c62b0",
   "metadata": {},
   "outputs": [
    {
     "name": "stdout",
     "output_type": "stream",
     "text": [
      "Progress: [####################################################################################################] 95.23%\n",
      "Test Accuracy: 97.08%\n"
     ]
    },
    {
     "data": {
      "image/png": "[encoded data removed]",
      "text/plain": [
       "<Figure size 800x500 with 1 Axes>"
      ]
     },
     "metadata": {},
     "output_type": "display_data"
    },
    {
     "data": {
      "image/png": "[encoded data removed]",
      "text/plain": [
       "<Figure size 800x500 with 1 Axes>"
      ]
     },
     "metadata": {},
     "output_type": "display_data"
    }
   ],
   "source": [
    "# Initialize weights randomly with larger values\n",
    "weights = np.random.randn(X_train.shape[1]) * 10\n",
    "bias = np.random.randn() * 10\n",
    "# Set the learning rate for gradient descent\n",
    "learning_rate = 0.01\n",
    "# Train the model using the training data\n",
    "weights, bias, iterations, costs, accuracies = train(weights, bias, learning_rate, X_train, Y_train)\n",
    "# Evaluate the model's performance on the test data\n",
    "test_accuracy = accuracy(weights, bias, X_test, Y_test)\n",
    "# Print the test accuracy\n",
    "print(f\"\\nTest Accuracy: {test_accuracy:.2f}%\")\n",
    "# Plot the accuracy curve over the training iterations\n",
    "plot_accuracy_curve(iterations, accuracies)\n",
    "# Plot the cost curve over the training iterations\n",
    "plot_cost_curve(iterations, costs)"
   ]
  }
 ],
 "metadata": {
  "kernelspec": {
   "display_name": "Python 3 (ipykernel)",
   "language": "python",
   "name": "python3"
  },
  "language_info": {
   "codemirror_mode": {
    "name": "ipython",
    "version": 3
   },
   "file_extension": ".py",
   "mimetype": "text/x-python",
   "name": "python",
   "nbconvert_exporter": "python",
   "pygments_lexer": "ipython3",
   "version": "3.13.1"
  }
 },
 "nbformat": 4,
 "nbformat_minor": 5
}
